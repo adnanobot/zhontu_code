{
 "cells": [
  {
   "cell_type": "markdown",
   "id": "233a9f35",
   "metadata": {},
   "source": [
    "# talker_mumin\n",
    "\n",
    "## Functionality: \n",
    "Does basic interaction of the user.\n",
    "* Gives salam to the user\n",
    "* Asks name of the user\n",
    "* Replies with the name of the user\n",
    "\n",
    "## Learning goal:\n",
    " * Takes input from the user\n",
    " * Shows output or message to the user"
   ]
  },
  {
   "cell_type": "code",
   "execution_count": 1,
   "id": "4afa5655",
   "metadata": {},
   "outputs": [
    {
     "name": "stdout",
     "output_type": "stream",
     "text": [
      "Assalamu Alaikum\n",
      "I am TalkerMumin. What is your name?\n"
     ]
    }
   ],
   "source": [
    "print(\"Assalamu Alaikum\")\n",
    "print(\"I am TalkerMumin. What is your name?\")"
   ]
  },
  {
   "cell_type": "markdown",
   "id": "5cf01883",
   "metadata": {},
   "source": [
    "## Taking input from the user\n",
    "We will use a function called - `input()` to take input from the user. \n",
    "We need to remember or save the user's input, right? We will save the information in a ***variable***. \n",
    "\n",
    "The function works as follows - "
   ]
  },
  {
   "cell_type": "code",
   "execution_count": 2,
   "id": "8fd1c121",
   "metadata": {},
   "outputs": [
    {
     "name": "stdout",
     "output_type": "stream",
     "text": [
      "Adnan\n"
     ]
    }
   ],
   "source": [
    "name = input()"
   ]
  },
  {
   "cell_type": "code",
   "execution_count": 3,
   "id": "af0896f8",
   "metadata": {},
   "outputs": [
    {
     "name": "stdout",
     "output_type": "stream",
     "text": [
      "May Allah bless you Adnan\n"
     ]
    }
   ],
   "source": [
    "print(\"May Allah bless you\", name)"
   ]
  },
  {
   "cell_type": "code",
   "execution_count": null,
   "id": "97c613b6",
   "metadata": {},
   "outputs": [],
   "source": []
  }
 ],
 "metadata": {
  "kernelspec": {
   "display_name": "Python 3 (ipykernel)",
   "language": "python",
   "name": "python3"
  },
  "language_info": {
   "codemirror_mode": {
    "name": "ipython",
    "version": 3
   },
   "file_extension": ".py",
   "mimetype": "text/x-python",
   "name": "python",
   "nbconvert_exporter": "python",
   "pygments_lexer": "ipython3",
   "version": "3.9.5"
  }
 },
 "nbformat": 4,
 "nbformat_minor": 5
}
